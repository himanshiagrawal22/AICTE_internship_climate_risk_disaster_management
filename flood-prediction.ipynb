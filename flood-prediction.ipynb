{
 "cells": [
  {
   "cell_type": "code",
   "execution_count": 1,
   "id": "ecb7f901-f49a-4856-a872-b028e8488cf1",
   "metadata": {},
   "outputs": [],
   "source": [
    "import pandas as pd"
   ]
  },
  {
   "cell_type": "code",
   "execution_count": 2,
   "id": "887533bd-4612-4452-8524-0b95f9af6aa4",
   "metadata": {},
   "outputs": [],
   "source": [
    "df = pd.read_csv(\"flood.csv\")"
   ]
  },
  {
   "cell_type": "code",
   "execution_count": 3,
   "id": "69d9ef80-fa7a-41ac-b767-a2934bcae7b7",
   "metadata": {},
   "outputs": [
    {
     "name": "stdout",
     "output_type": "stream",
     "text": [
      "   MonsoonIntensity  TopographyDrainage  RiverManagement  Deforestation  \\\n",
      "0                 3                   8                6              6   \n",
      "1                 8                   4                5              7   \n",
      "2                 3                  10                4              1   \n",
      "3                 4                   4                2              7   \n",
      "4                 3                   7                5              2   \n",
      "\n",
      "   Urbanization  ClimateChange  DamsQuality  Siltation  AgriculturalPractices  \\\n",
      "0             4              4            6          2                      3   \n",
      "1             7              9            1          5                      5   \n",
      "2             7              5            4          7                      4   \n",
      "3             3              4            1          4                      6   \n",
      "4             5              8            5          2                      7   \n",
      "\n",
      "   Encroachments  ...  DrainageSystems  CoastalVulnerability  Landslides  \\\n",
      "0              2  ...               10                     7           4   \n",
      "1              4  ...                9                     2           6   \n",
      "2              9  ...                7                     4           4   \n",
      "3              4  ...                4                     2           6   \n",
      "4              5  ...                7                     6           5   \n",
      "\n",
      "   Watersheds  DeterioratingInfrastructure  PopulationScore  WetlandLoss  \\\n",
      "0           2                            3                4            3   \n",
      "1           2                            1                1            9   \n",
      "2           8                            6                1            8   \n",
      "3           6                            8                8            6   \n",
      "4           3                            3                4            4   \n",
      "\n",
      "   InadequatePlanning  PoliticalFactors  FloodProbability  \n",
      "0                   2                 6             0.450  \n",
      "1                   1                 3             0.475  \n",
      "2                   3                 6             0.515  \n",
      "3                   6                10             0.520  \n",
      "4                   3                 4             0.475  \n",
      "\n",
      "[5 rows x 21 columns]\n"
     ]
    }
   ],
   "source": [
    "print(df.head())"
   ]
  },
  {
   "cell_type": "code",
   "execution_count": 4,
   "id": "f22ced3d-ba16-442f-9e31-2dbb4b7836d3",
   "metadata": {},
   "outputs": [
    {
     "name": "stdout",
     "output_type": "stream",
     "text": [
      "<class 'pandas.core.frame.DataFrame'>\n",
      "RangeIndex: 50000 entries, 0 to 49999\n",
      "Data columns (total 21 columns):\n",
      " #   Column                           Non-Null Count  Dtype  \n",
      "---  ------                           --------------  -----  \n",
      " 0   MonsoonIntensity                 50000 non-null  int64  \n",
      " 1   TopographyDrainage               50000 non-null  int64  \n",
      " 2   RiverManagement                  50000 non-null  int64  \n",
      " 3   Deforestation                    50000 non-null  int64  \n",
      " 4   Urbanization                     50000 non-null  int64  \n",
      " 5   ClimateChange                    50000 non-null  int64  \n",
      " 6   DamsQuality                      50000 non-null  int64  \n",
      " 7   Siltation                        50000 non-null  int64  \n",
      " 8   AgriculturalPractices            50000 non-null  int64  \n",
      " 9   Encroachments                    50000 non-null  int64  \n",
      " 10  IneffectiveDisasterPreparedness  50000 non-null  int64  \n",
      " 11  DrainageSystems                  50000 non-null  int64  \n",
      " 12  CoastalVulnerability             50000 non-null  int64  \n",
      " 13  Landslides                       50000 non-null  int64  \n",
      " 14  Watersheds                       50000 non-null  int64  \n",
      " 15  DeterioratingInfrastructure      50000 non-null  int64  \n",
      " 16  PopulationScore                  50000 non-null  int64  \n",
      " 17  WetlandLoss                      50000 non-null  int64  \n",
      " 18  InadequatePlanning               50000 non-null  int64  \n",
      " 19  PoliticalFactors                 50000 non-null  int64  \n",
      " 20  FloodProbability                 50000 non-null  float64\n",
      "dtypes: float64(1), int64(20)\n",
      "memory usage: 8.0 MB\n",
      "None\n"
     ]
    }
   ],
   "source": [
    "print(df.info())"
   ]
  },
  {
   "cell_type": "code",
   "execution_count": 5,
   "id": "0f42e43e-f53d-4469-bf43-30ab94c6a466",
   "metadata": {},
   "outputs": [
    {
     "name": "stdout",
     "output_type": "stream",
     "text": [
      "       MonsoonIntensity  TopographyDrainage  RiverManagement  Deforestation  \\\n",
      "count      50000.000000        50000.000000      50000.00000   50000.000000   \n",
      "mean           4.991480            4.984100          5.01594       5.008480   \n",
      "std            2.236834            2.246488          2.23131       2.222743   \n",
      "min            0.000000            0.000000          0.00000       0.000000   \n",
      "25%            3.000000            3.000000          3.00000       3.000000   \n",
      "50%            5.000000            5.000000          5.00000       5.000000   \n",
      "75%            6.000000            6.000000          6.00000       6.000000   \n",
      "max           16.000000           18.000000         16.00000      17.000000   \n",
      "\n",
      "       Urbanization  ClimateChange  DamsQuality     Siltation  \\\n",
      "count  50000.000000   50000.000000  50000.00000  50000.000000   \n",
      "mean       4.989060       4.988340      5.01536      4.988600   \n",
      "std        2.243159       2.226761      2.24500      2.232642   \n",
      "min        0.000000       0.000000      0.00000      0.000000   \n",
      "25%        3.000000       3.000000      3.00000      3.000000   \n",
      "50%        5.000000       5.000000      5.00000      5.000000   \n",
      "75%        6.000000       6.000000      6.00000      6.000000   \n",
      "max       17.000000      17.000000     16.00000     16.000000   \n",
      "\n",
      "       AgriculturalPractices  Encroachments  ...  DrainageSystems  \\\n",
      "count           50000.000000   50000.000000  ...     50000.000000   \n",
      "mean                5.006120       5.006380  ...         5.006060   \n",
      "std                 2.234588       2.241633  ...         2.238107   \n",
      "min                 0.000000       0.000000  ...         0.000000   \n",
      "25%                 3.000000       3.000000  ...         3.000000   \n",
      "50%                 5.000000       5.000000  ...         5.000000   \n",
      "75%                 6.000000       6.000000  ...         6.000000   \n",
      "max                16.000000      18.000000  ...        17.000000   \n",
      "\n",
      "       CoastalVulnerability    Landslides   Watersheds  \\\n",
      "count          50000.000000  50000.000000  50000.00000   \n",
      "mean               4.999920      4.984220      4.97982   \n",
      "std                2.247101      2.227741      2.23219   \n",
      "min                0.000000      0.000000      0.00000   \n",
      "25%                3.000000      3.000000      3.00000   \n",
      "50%                5.000000      5.000000      5.00000   \n",
      "75%                6.000000      6.000000      6.00000   \n",
      "max               17.000000     16.000000     16.00000   \n",
      "\n",
      "       DeterioratingInfrastructure  PopulationScore  WetlandLoss  \\\n",
      "count                 50000.000000     50000.000000  50000.00000   \n",
      "mean                      4.988200         4.984980      5.00512   \n",
      "std                       2.231134         2.238279      2.23176   \n",
      "min                       0.000000         0.000000      0.00000   \n",
      "25%                       3.000000         3.000000      3.00000   \n",
      "50%                       5.000000         5.000000      5.00000   \n",
      "75%                       6.000000         6.000000      6.00000   \n",
      "max                      17.000000        19.000000     22.00000   \n",
      "\n",
      "       InadequatePlanning  PoliticalFactors  FloodProbability  \n",
      "count        50000.000000      50000.000000      50000.000000  \n",
      "mean             4.994360          4.990520          0.499660  \n",
      "std              2.230011          2.246075          0.050034  \n",
      "min              0.000000          0.000000          0.285000  \n",
      "25%              3.000000          3.000000          0.465000  \n",
      "50%              5.000000          5.000000          0.500000  \n",
      "75%              6.000000          6.000000          0.535000  \n",
      "max             16.000000         16.000000          0.725000  \n",
      "\n",
      "[8 rows x 21 columns]\n"
     ]
    }
   ],
   "source": [
    "print(df.describe())"
   ]
  },
  {
   "cell_type": "code",
   "execution_count": 6,
   "id": "cfeca7a4-e06c-4124-b7f7-6e824b1c98f0",
   "metadata": {},
   "outputs": [
    {
     "name": "stdout",
     "output_type": "stream",
     "text": [
      "       MonsoonIntensity  TopographyDrainage  RiverManagement  Deforestation  \\\n",
      "0                 False               False            False          False   \n",
      "1                 False               False            False          False   \n",
      "2                 False               False            False          False   \n",
      "3                 False               False            False          False   \n",
      "4                 False               False            False          False   \n",
      "...                 ...                 ...              ...            ...   \n",
      "49995             False               False            False          False   \n",
      "49996             False               False            False          False   \n",
      "49997             False               False            False          False   \n",
      "49998             False               False            False          False   \n",
      "49999             False               False            False          False   \n",
      "\n",
      "       Urbanization  ClimateChange  DamsQuality  Siltation  \\\n",
      "0             False          False        False      False   \n",
      "1             False          False        False      False   \n",
      "2             False          False        False      False   \n",
      "3             False          False        False      False   \n",
      "4             False          False        False      False   \n",
      "...             ...            ...          ...        ...   \n",
      "49995         False          False        False      False   \n",
      "49996         False          False        False      False   \n",
      "49997         False          False        False      False   \n",
      "49998         False          False        False      False   \n",
      "49999         False          False        False      False   \n",
      "\n",
      "       AgriculturalPractices  Encroachments  ...  DrainageSystems  \\\n",
      "0                      False          False  ...            False   \n",
      "1                      False          False  ...            False   \n",
      "2                      False          False  ...            False   \n",
      "3                      False          False  ...            False   \n",
      "4                      False          False  ...            False   \n",
      "...                      ...            ...  ...              ...   \n",
      "49995                  False          False  ...            False   \n",
      "49996                  False          False  ...            False   \n",
      "49997                  False          False  ...            False   \n",
      "49998                  False          False  ...            False   \n",
      "49999                  False          False  ...            False   \n",
      "\n",
      "       CoastalVulnerability  Landslides  Watersheds  \\\n",
      "0                     False       False       False   \n",
      "1                     False       False       False   \n",
      "2                     False       False       False   \n",
      "3                     False       False       False   \n",
      "4                     False       False       False   \n",
      "...                     ...         ...         ...   \n",
      "49995                 False       False       False   \n",
      "49996                 False       False       False   \n",
      "49997                 False       False       False   \n",
      "49998                 False       False       False   \n",
      "49999                 False       False       False   \n",
      "\n",
      "       DeterioratingInfrastructure  PopulationScore  WetlandLoss  \\\n",
      "0                            False            False        False   \n",
      "1                            False            False        False   \n",
      "2                            False            False        False   \n",
      "3                            False            False        False   \n",
      "4                            False            False        False   \n",
      "...                            ...              ...          ...   \n",
      "49995                        False            False        False   \n",
      "49996                        False            False        False   \n",
      "49997                        False            False        False   \n",
      "49998                        False            False        False   \n",
      "49999                        False            False        False   \n",
      "\n",
      "       InadequatePlanning  PoliticalFactors  FloodProbability  \n",
      "0                   False             False             False  \n",
      "1                   False             False             False  \n",
      "2                   False             False             False  \n",
      "3                   False             False             False  \n",
      "4                   False             False             False  \n",
      "...                   ...               ...               ...  \n",
      "49995               False             False             False  \n",
      "49996               False             False             False  \n",
      "49997               False             False             False  \n",
      "49998               False             False             False  \n",
      "49999               False             False             False  \n",
      "\n",
      "[50000 rows x 21 columns]\n"
     ]
    }
   ],
   "source": [
    "print(df.isnull())"
   ]
  },
  {
   "cell_type": "code",
   "execution_count": 7,
   "id": "68dfc7d0-fc01-425c-987a-8ec274f78a3a",
   "metadata": {},
   "outputs": [
    {
     "name": "stdout",
     "output_type": "stream",
     "text": [
      "MonsoonIntensity                   249574.00\n",
      "TopographyDrainage                 249205.00\n",
      "RiverManagement                    250797.00\n",
      "Deforestation                      250424.00\n",
      "Urbanization                       249453.00\n",
      "ClimateChange                      249417.00\n",
      "DamsQuality                        250768.00\n",
      "Siltation                          249430.00\n",
      "AgriculturalPractices              250306.00\n",
      "Encroachments                      250319.00\n",
      "IneffectiveDisasterPreparedness    250251.00\n",
      "DrainageSystems                    250303.00\n",
      "CoastalVulnerability               249996.00\n",
      "Landslides                         249211.00\n",
      "Watersheds                         248991.00\n",
      "DeterioratingInfrastructure        249410.00\n",
      "PopulationScore                    249249.00\n",
      "WetlandLoss                        250256.00\n",
      "InadequatePlanning                 249718.00\n",
      "PoliticalFactors                   249526.00\n",
      "FloodProbability                    24983.02\n",
      "dtype: float64\n"
     ]
    }
   ],
   "source": [
    "print(df.sum())"
   ]
  },
  {
   "cell_type": "code",
   "execution_count": null,
   "id": "f9877ad6-66b8-42d4-a758-8363571671cb",
   "metadata": {},
   "outputs": [],
   "source": []
  }
 ],
 "metadata": {
  "kernelspec": {
   "display_name": "Python 3 (ipykernel)",
   "language": "python",
   "name": "python3"
  },
  "language_info": {
   "codemirror_mode": {
    "name": "ipython",
    "version": 3
   },
   "file_extension": ".py",
   "mimetype": "text/x-python",
   "name": "python",
   "nbconvert_exporter": "python",
   "pygments_lexer": "ipython3",
   "version": "3.13.5"
  }
 },
 "nbformat": 4,
 "nbformat_minor": 5
}
